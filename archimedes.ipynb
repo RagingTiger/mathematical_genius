{
 "cells": [
  {
   "cell_type": "markdown",
   "id": "bce82f0c-5630-473d-ac4f-81376d81ab3f",
   "metadata": {},
   "source": [
    "# Mathematical Genius: Archimedes\n",
    "Here we explore the works of [Archimedes](https://en.wikipedia.org/wiki/Archimedeshttps://en.wikipedia.org/wiki/Archimedes)."
   ]
  },
  {
   "cell_type": "markdown",
   "id": "6e7f4807-f6cf-4207-8794-d6e3ac810b4d",
   "metadata": {},
   "source": [
    "## Setup\n",
    "Here we *import* necessary models and *load* any necessary data:"
   ]
  },
  {
   "cell_type": "code",
   "execution_count": 1,
   "id": "8c65d93f-18ce-42ea-9d08-11b9684adb1b",
   "metadata": {},
   "outputs": [],
   "source": [
    "# custom libs\n",
    "from packages import archimedes"
   ]
  },
  {
   "cell_type": "markdown",
   "id": "7a92b770-960f-4d0d-9f95-676e15a5fb5a",
   "metadata": {},
   "source": [
    "## Pi Algorithm\n",
    "What follows is the *iterative computation* of $\\pi$ using the method attributed to Archimedes.<sup>[\\[1\\]](https://en.wikipedia.org/wiki/Pi#Polygon_approximation_era),</sup> <sup>[\\[2\\]](https://arxiv.org/abs/2008.07995)</sup>\n",
    "You will notice that this *algorithm* approaches $\\pi$ from *above* and *below*, essentially bounding $\\pi$ between these two *hyper* and *hypo* approximations.\n",
    "\n",
    "Mathematically stated:\n",
    "$$\n",
    "C_n = \\lim_{n\\to\\infty} n \\cdot{\\tan(\\frac{180^{\\circ}}{n})} = \\pi\n",
    "\\\\\n",
    "c_n = \\lim_{n\\to\\infty} n \\cdot{\\sin(\\frac{180^{\\circ}}{n})} = \\pi\n",
    "$$\n",
    "\n",
    "Where $C_n$ represents the *circumscribed polygon approximation* and $c_n$ represents the *inscribed polygon approximation*. Below we will apply this *iterative method* for polygons up to $n = 100$."
   ]
  },
  {
   "cell_type": "code",
   "execution_count": 2,
   "id": "757dbe34-2bfa-43e3-befe-35a1e2032a20",
   "metadata": {},
   "outputs": [
    {
     "name": "stdout",
     "output_type": "stream",
     "text": [
      "n=3   2.5980762114 < π < 5.1961524227\n",
      "n=4   2.8284271247 < π < 4.0000000000\n",
      "n=5   2.9389262615 < π < 3.6327126400\n",
      "n=6   3.0000000000 < π < 3.4641016151\n",
      "n=7   3.0371861738 < π < 3.3710223317\n",
      "n=8   3.0614674589 < π < 3.3137084990\n",
      "n=9   3.0781812899 < π < 3.2757321084\n",
      "n=10  3.0901699437 < π < 3.2491969623\n",
      "n=11  3.0990581253 < π < 3.2298914223\n",
      "n=12  3.1058285412 < π < 3.2153903092\n",
      ".\n",
      ".\n",
      ".\n",
      "\n",
      "n=90  3.1409547032 < π < 3.1428692543\n",
      "n=91  3.1409686462 < π < 3.1428413380\n",
      "n=92  3.1409821371 < π < 3.1428143276\n",
      "n=93  3.1409951952 < π < 3.1427881843\n",
      "n=94  3.1410078387 < π < 3.1427628715\n",
      "n=95  3.1410200851 < π < 3.1427383543\n",
      "n=96  3.1410319509 < π < 3.1427145996\n",
      "n=97  3.1410434516 < π < 3.1426915763\n",
      "n=98  3.1410546020 < π < 3.1426692546\n",
      "n=99  3.1410654163 < π < 3.1426476062\n",
      "n=100 3.1410759078 < π < 3.1426266043\n"
     ]
    }
   ],
   "source": [
    "# approximate Pi up to n = 100\n",
    "pi_approximate = [archimedes.pi_approximation(n) for n in range(3, 101)]\n",
    "\n",
    "# now print out 3 - 12\n",
    "for sides, (inner, outer) in enumerate(pi_approximate[:10], start=3):\n",
    "    # print approximations\n",
    "    print(f'n={sides:<3} {inner:0.10f} < π < {outer:0.10f}')\n",
    "    \n",
    "# dot dot\n",
    "print('.\\n' * 3)\n",
    "\n",
    "# finally 90 - 100\n",
    "for sides, (inner, outer) in enumerate(pi_approximate[-11:], start=90):\n",
    "    # print approximation\n",
    "    print(f'n={sides:<3} {inner:0.10f} < π < {outer:0.10f}')"
   ]
  },
  {
   "cell_type": "markdown",
   "id": "977e148c-6201-45ed-b507-a86b94ae481c",
   "metadata": {},
   "source": [
    "## Bibliography\n",
    "+ 1: [Pi - Wikipedia: Polygon Approximation Era](https://en.wikipedia.org/wiki/Pi#Polygon_approximation_era)\n",
    "+ 2: [How Archimedes showed that π is approximately equal to 22/7](https://arxiv.org/abs/2008.07995)"
   ]
  }
 ],
 "metadata": {
  "kernelspec": {
   "display_name": "Python 3 (ipykernel)",
   "language": "python",
   "name": "python3"
  },
  "language_info": {
   "codemirror_mode": {
    "name": "ipython",
    "version": 3
   },
   "file_extension": ".py",
   "mimetype": "text/x-python",
   "name": "python",
   "nbconvert_exporter": "python",
   "pygments_lexer": "ipython3",
   "version": "3.9.6"
  }
 },
 "nbformat": 4,
 "nbformat_minor": 5
}
